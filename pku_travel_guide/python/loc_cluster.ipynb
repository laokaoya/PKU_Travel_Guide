{
 "cells": [
  {
   "cell_type": "code",
   "execution_count": 7,
   "id": "9cafa04e-6f7d-4604-80a3-d0c9ccc94e01",
   "metadata": {},
   "outputs": [
    {
     "name": "stderr",
     "output_type": "stream",
     "text": [
      "c:\\Users\\likeyi\\AppData\\Local\\anaconda3\\Lib\\site-packages\\sklearn\\cluster\\_kmeans.py:1446: UserWarning: KMeans is known to have a memory leak on Windows with MKL, when there are less chunks than available threads. You can avoid it by setting the environment variable OMP_NUM_THREADS=1.\n",
      "  warnings.warn(\n"
     ]
    }
   ],
   "source": [
    "import pandas as pd\n",
    "import folium\n",
    "from sklearn.cluster import KMeans\n",
    "\n",
    "# 读取数据\n",
    "data = pd.read_csv('../data/pku.csv', encoding=\"utf-8\")\n",
    "\n",
    "# 提取经纬度数据\n",
    "coordinates = data[['lat', 'lon']]\n",
    "\n",
    "# 使用K均值算法进行聚类\n",
    "kmeans = KMeans(n_clusters=6, random_state=0).fit(coordinates)\n",
    "\n",
    "# 将聚类结果添加到原始数据中\n",
    "data['cluster'] = kmeans.labels_\n",
    "\n",
    "# 创建地图对象\n",
    "m = folium.Map(location=[data['lat'].mean(), data['lon'].mean()], zoom_start=17)\n",
    "\n",
    "# 定义颜色列表\n",
    "colors = ['red', 'blue', 'green', 'orange', 'purple', 'black']\n",
    "\n",
    "# 根据聚类结果添加标记\n",
    "for index, row in data.iterrows():\n",
    "    # 根据聚类标签选择颜色\n",
    "    color = colors[row['cluster']]\n",
    "    \n",
    "    popup = folium.Popup((f\"{row['location']}\"), max_width=400)   \n",
    "    folium.Marker([row['lat'], row['lon']], popup=popup, \n",
    "                        icon=folium.Icon(color=color)).add_to(m)\n",
    "\n",
    "# 将地图保存为HTML文件\n",
    "m.save('../map/pku_cluster_map.html')\n"
   ]
  },
  {
   "cell_type": "code",
   "execution_count": 8,
   "id": "0ad6787a-3f9e-4a4f-8bff-b942816f3ddb",
   "metadata": {},
   "outputs": [],
   "source": [
    "# 读取start_loc数据\n",
    "start_loc_data = pd.read_csv('../data/start_loc.csv', encoding=\"utf-8\")\n",
    "\n",
    "# 定义新的形状和颜色\n",
    "new_shape = 'star'  \n",
    "new_color = 'gray' \n",
    "\n",
    "# 根据新的位置添加标记\n",
    "for index, row in start_loc_data.iterrows():\n",
    "    folium.Marker([row['lat'], row['lon']], popup=row['location'], icon=folium.Icon(color=new_color, icon=new_shape)).add_to(m)\n",
    "\n",
    "# 保存地图为HTML文件\n",
    "m.save('../map/pku_cluster_map.html')\n",
    "\n"
   ]
  },
  {
   "cell_type": "code",
   "execution_count": 9,
   "id": "4360a4fa",
   "metadata": {},
   "outputs": [
    {
     "name": "stderr",
     "output_type": "stream",
     "text": [
      "c:\\Users\\likeyi\\AppData\\Local\\anaconda3\\Lib\\site-packages\\sklearn\\cluster\\_kmeans.py:1446: UserWarning: KMeans is known to have a memory leak on Windows with MKL, when there are less chunks than available threads. You can avoid it by setting the environment variable OMP_NUM_THREADS=1.\n",
      "  warnings.warn(\n"
     ]
    }
   ],
   "source": [
    "import pandas as pd\n",
    "import folium\n",
    "from sklearn.cluster import KMeans\n",
    "\n",
    "# 读取数据\n",
    "data = pd.read_csv('../data/animal.csv', encoding=\"utf-8\")\n",
    "\n",
    "# 提取经纬度数据\n",
    "coordinates = data[['lat', 'lon']]\n",
    "\n",
    "# 使用K均值算法进行聚类\n",
    "kmeans = KMeans(n_clusters=1, random_state=0).fit(coordinates)\n",
    "\n",
    "# 将聚类结果添加到原始数据中\n",
    "data['cluster'] = kmeans.labels_\n",
    "\n",
    "# 创建地图对象\n",
    "m = folium.Map(location=[data['lat'].mean(), data['lon'].mean()], zoom_start=17)\n",
    "\n",
    "# 定义颜色列表\n",
    "colors = ['red', 'blue', 'green', 'orange', 'purple', 'black']\n",
    "\n",
    "# 根据聚类结果添加标记\n",
    "for index, row in data.iterrows():\n",
    "    # 根据聚类标签选择颜色\n",
    "    color = colors[row['cluster']]\n",
    "    html = f\"\"\"\n",
    "    <h3 style=\"font-size:24px;\">{row['location']}</h3>\n",
    "    <p style=\"font-size:20px;\">{row['animal']}</p>\n",
    "    \"\"\"\n",
    "    popup = folium.Popup(html, max_width=400)   \n",
    "    # 添加地点标记和弹出框\n",
    "    folium.Marker([row['lat'], row['lon']], \n",
    "                popup=popup, \n",
    "                icon=folium.Icon(color=color)\n",
    "                ).add_to(m)\n",
    "# 将地图保存为HTML文件\n",
    "m.save('../map/animal_map.html')\n"
   ]
  },
  {
   "cell_type": "code",
   "execution_count": 10,
   "id": "20b02493",
   "metadata": {},
   "outputs": [
    {
     "name": "stderr",
     "output_type": "stream",
     "text": [
      "c:\\Users\\likeyi\\AppData\\Local\\anaconda3\\Lib\\site-packages\\sklearn\\cluster\\_kmeans.py:1446: UserWarning: KMeans is known to have a memory leak on Windows with MKL, when there are less chunks than available threads. You can avoid it by setting the environment variable OMP_NUM_THREADS=1.\n",
      "  warnings.warn(\n"
     ]
    }
   ],
   "source": [
    "import pandas as pd\n",
    "import folium\n",
    "from sklearn.cluster import KMeans\n",
    "\n",
    "# 读取数据\n",
    "data = pd.read_csv('../data/hidden.csv', encoding=\"utf-8\")\n",
    "\n",
    "# 提取经纬度数据\n",
    "coordinates = data[['lat', 'lon']]\n",
    "\n",
    "# 使用K均值算法进行聚类\n",
    "kmeans = KMeans(n_clusters=1, random_state=0).fit(coordinates)\n",
    "\n",
    "# 将聚类结果添加到原始数据中\n",
    "data['cluster'] = kmeans.labels_\n",
    "\n",
    "# 创建地图对象\n",
    "m = folium.Map(location=[data['lat'].mean(), data['lon'].mean()], zoom_start=17)\n",
    "\n",
    "# 定义颜色列表\n",
    "colors = ['orange', 'purple', 'black']\n",
    "\n",
    "# 根据聚类结果添加标记\n",
    "for index, row in data.iterrows():\n",
    "    # 根据聚类标签选择颜色\n",
    "    color = colors[row['cluster']]\n",
    "    popup = folium.Popup((f\"{row['location']}，隐蔽度{row['隐蔽度']}颗星\"), max_width=400)   \n",
    "    folium.Marker([row['lat'], row['lon']], popup=popup, \n",
    "                        icon=folium.Icon(color=color)).add_to(m)\n",
    "# 将地图保存为HTML文件\n",
    "m.save('../map/hidden_map.html')\n"
   ]
  },
  {
   "cell_type": "code",
   "execution_count": 11,
   "id": "2584df1a",
   "metadata": {},
   "outputs": [
    {
     "name": "stderr",
     "output_type": "stream",
     "text": [
      "c:\\Users\\likeyi\\AppData\\Local\\anaconda3\\Lib\\site-packages\\sklearn\\cluster\\_kmeans.py:1446: UserWarning: KMeans is known to have a memory leak on Windows with MKL, when there are less chunks than available threads. You can avoid it by setting the environment variable OMP_NUM_THREADS=1.\n",
      "  warnings.warn(\n"
     ]
    }
   ],
   "source": [
    "import pandas as pd\n",
    "import folium\n",
    "from sklearn.cluster import KMeans\n",
    "\n",
    "# 读取数据\n",
    "data = pd.read_csv('../data/statues.csv', encoding=\"utf-8\")\n",
    "\n",
    "# 提取经纬度数据\n",
    "coordinates = data[['lat', 'lon']]\n",
    "\n",
    "# 使用K均值算法进行聚类\n",
    "kmeans = KMeans(n_clusters=1, random_state=0).fit(coordinates)\n",
    "\n",
    "# 将聚类结果添加到原始数据中\n",
    "data['cluster'] = kmeans.labels_\n",
    "\n",
    "# 创建地图对象\n",
    "m = folium.Map(location=[data['lat'].mean(), data['lon'].mean()], zoom_start=17)\n",
    "\n",
    "# 定义颜色列表\n",
    "colors = ['orange', 'purple', 'black']\n",
    "\n",
    "# 根据聚类结果添加标记\n",
    "for index, row in data.iterrows():\n",
    "    # 根据聚类标签选择颜色\n",
    "    color = colors[row['cluster']]\n",
    "    popup = folium.Popup((f\"{row['location']}\"), max_width=400)   \n",
    "    folium.Marker([row['lat'], row['lon']], popup=popup, \n",
    "                        icon=folium.Icon(color=color)).add_to(m)\n",
    "# 将地图保存为HTML文件\n",
    "m.save('../map/statues_map.html')\n"
   ]
  },
  {
   "cell_type": "code",
   "execution_count": 12,
   "id": "452abef3",
   "metadata": {},
   "outputs": [
    {
     "name": "stderr",
     "output_type": "stream",
     "text": [
      "c:\\Users\\likeyi\\AppData\\Local\\anaconda3\\Lib\\site-packages\\sklearn\\cluster\\_kmeans.py:1446: UserWarning: KMeans is known to have a memory leak on Windows with MKL, when there are less chunks than available threads. You can avoid it by setting the environment variable OMP_NUM_THREADS=1.\n",
      "  warnings.warn(\n"
     ]
    }
   ],
   "source": [
    "import pandas as pd\n",
    "import folium\n",
    "from sklearn.cluster import KMeans\n",
    "\n",
    "# 读取数据\n",
    "data = pd.read_csv('../data/tree.csv', encoding=\"utf-8\")\n",
    "\n",
    "# 提取经纬度数据\n",
    "coordinates = data[['lat', 'lon']]\n",
    "\n",
    "# 使用K均值算法进行聚类\n",
    "kmeans = KMeans(n_clusters=1, random_state=0).fit(coordinates)\n",
    "\n",
    "# 将聚类结果添加到原始数据中\n",
    "data['cluster'] = kmeans.labels_\n",
    "\n",
    "# 创建地图对象\n",
    "m = folium.Map(location=[data['lat'].mean(), data['lon'].mean()], zoom_start=17)\n",
    "\n",
    "# 定义颜色列表\n",
    "colors = ['orange', 'purple', 'black']\n",
    "\n",
    "# 根据聚类结果添加标记\n",
    "for index, row in data.iterrows():\n",
    "    # 根据聚类标签选择颜色\n",
    "    color = colors[row['cluster']]\n",
    "    popup = folium.Popup((f\"{row['location']}\"), max_width=400)   \n",
    "    folium.Marker([row['lat'], row['lon']], popup=popup, \n",
    "                        icon=folium.Icon(color=color)).add_to(m)\n",
    "# 将地图保存为HTML文件\n",
    "m.save('../map/tree.html')\n"
   ]
  },
  {
   "cell_type": "code",
   "execution_count": 13,
   "id": "b24a36ca",
   "metadata": {},
   "outputs": [
    {
     "name": "stderr",
     "output_type": "stream",
     "text": [
      "c:\\Users\\likeyi\\AppData\\Local\\anaconda3\\Lib\\site-packages\\sklearn\\cluster\\_kmeans.py:1446: UserWarning: KMeans is known to have a memory leak on Windows with MKL, when there are less chunks than available threads. You can avoid it by setting the environment variable OMP_NUM_THREADS=1.\n",
      "  warnings.warn(\n"
     ]
    }
   ],
   "source": [
    "import pandas as pd\n",
    "import folium\n",
    "from sklearn.cluster import KMeans\n",
    "\n",
    "# 读取数据\n",
    "data = pd.read_csv('../data/restaurant.csv', encoding=\"utf-8\")\n",
    "\n",
    "# 提取经纬度数据\n",
    "coordinates = data[['lat', 'lon']]\n",
    "\n",
    "# 使用K均值算法进行聚类\n",
    "kmeans = KMeans(n_clusters=1, random_state=0).fit(coordinates)\n",
    "\n",
    "# 将聚类结果添加到原始数据中\n",
    "data['cluster'] = kmeans.labels_\n",
    "\n",
    "# 创建地图对象\n",
    "m = folium.Map(location=[data['lat'].mean(), data['lon'].mean()], zoom_start=17)\n",
    "\n",
    "# 定义颜色列表\n",
    "colors = ['orange', 'purple', 'black']\n",
    "\n",
    "# 根据聚类结果添加标记\n",
    "for index, row in data.iterrows():\n",
    "    # 根据聚类标签选择颜色\n",
    "    color = colors[row['cluster']]\n",
    "    popup = folium.Popup((f\"{row['location']}\"), max_width=400)   \n",
    "    folium.Marker([row['lat'], row['lon']], popup=popup, \n",
    "                        icon=folium.Icon(color=color)).add_to(m)\n",
    "# 将地图保存为HTML文件\n",
    "m.save('../map/restaurant.html')"
   ]
  }
 ],
 "metadata": {
  "kernelspec": {
   "display_name": "Python 3 (ipykernel)",
   "language": "python",
   "name": "python3"
  },
  "language_info": {
   "codemirror_mode": {
    "name": "ipython",
    "version": 3
   },
   "file_extension": ".py",
   "mimetype": "text/x-python",
   "name": "python",
   "nbconvert_exporter": "python",
   "pygments_lexer": "ipython3",
   "version": "3.12.4"
  }
 },
 "nbformat": 4,
 "nbformat_minor": 5
}
